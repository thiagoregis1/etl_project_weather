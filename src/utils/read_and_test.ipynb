{
 "cells": [
  {
   "cell_type": "code",
   "execution_count": 40,
   "metadata": {},
   "outputs": [
    {
     "name": "stdout",
     "output_type": "stream",
     "text": [
      "C:\\etl_project_cripto\\etl_project_weather\n",
      "=================================CSV============================================\n",
      "           cidade  temperatura  sensacao_termica  umidade condicao_clima    descricao_clima nascer_do_sol por_do_sol data_atualizacao  longitude  latitude  pressao_atmosferica  velocidade_vento  direcao_vento  cobertura_nuvens\n",
      "0       São Paulo        21.60             22.11       88         Clouds   nuvens quebradas      09:09:06   21:20:37       2025-03-18   -46.6361  -23.5475                 1018              4.12            130                75\n",
      "1  Rio de Janeiro        25.24             26.01       84           Rain        chuva fraca      08:55:28   21:06:50       2025-03-18   -43.2075  -22.9028                 1017              2.57             60                75\n",
      "2          Lisboa        12.45             12.00       86         Clouds  céu pouco nublado      06:43:07   18:46:03       2025-03-18    -9.1333   38.7167                 1008              2.68            315                20\n",
      "\n",
      "=================================JSON============================================\n",
      "           cidade  temperatura  sensacao_termica  umidade condicao_clima    descricao_clima nascer_do_sol por_do_sol data_atualizacao  longitude  latitude  pressao_atmosferica  velocidade_vento  direcao_vento  cobertura_nuvens\n",
      "0       São Paulo        21.60             22.11       88         Clouds   nuvens quebradas      09:09:06   21:20:37       2025-03-18   -46.6361  -23.5475                 1018              4.12            130                75\n",
      "1  Rio de Janeiro        25.24             26.01       84           Rain        chuva fraca      08:55:28   21:06:50       2025-03-18   -43.2075  -22.9028                 1017              2.57             60                75\n",
      "2          Lisboa        12.45             12.00       86         Clouds  céu pouco nublado      06:43:07   18:46:03       2025-03-18    -9.1333   38.7167                 1008              2.68            315                20\n",
      "\n",
      "=================================PARQUET============================================\n",
      "           cidade temperatura sensacao_termica umidade condicao_clima    descricao_clima nascer_do_sol por_do_sol data_atualizacao longitude  latitude pressao_atmosferica velocidade_vento direcao_vento cobertura_nuvens\n",
      "0       São Paulo        21.6            22.11      88         Clouds   nuvens quebradas      09:09:06   21:20:37       2025-03-18  -46.6361  -23.5475                1018             4.12           130               75\n",
      "1  Rio de Janeiro       25.24            26.01      84           Rain        chuva fraca      08:55:28   21:06:50       2025-03-18  -43.2075  -22.9028                1017             2.57            60               75\n",
      "2          Lisboa       12.45               12      86         Clouds  céu pouco nublado      06:43:07   18:46:03       2025-03-18   -9.1333   38.7167                1008             2.68           315               20\n",
      "\n"
     ]
    }
   ],
   "source": [
    "import pandas as pd\n",
    "from pathlib import Path\n",
    "import os\n",
    "\n",
    "pd.set_option('display.max_columns', None)\n",
    "pd.set_option('display.max_rows', None)\n",
    "pd.set_option('display.max_colwidth', None)\n",
    "\n",
    "base_dir = Path(os.getcwd()).resolve().parent.parent # Diretório de execução atual \n",
    "print(base_dir)\n",
    "data_dir = base_dir / 'data'  # Diretório 'data' na raiz do projeto\n",
    "parquet_file_path = data_dir / 'parquet' / 'weather_data.parquet'  # Caminho completo para o arquivo Parquet\n",
    "\n",
    "# Carregando o arquivo CSV\n",
    "df = pd.read_csv(f\"{data_dir}/csv/weather_data.csv\")\n",
    "print(\"=================================CSV============================================\")\n",
    "print(df)\n",
    "print()\n",
    "# Carregando o arquivo JSON\n",
    "df = pd.read_json(f\"{data_dir}/json/weather_data.json\")\n",
    "print(\"=================================JSON============================================\")\n",
    "print(df)\n",
    "print()\n",
    "# Carregando o arquivo Parquet\n",
    "df = pd.read_parquet(f\"{data_dir}/parquet/weather_data.parquet\")\n",
    "print(\"=================================PARQUET============================================\")\n",
    "print(df)\n",
    "print()\n",
    "\n",
    "\n",
    "\n"
   ]
  },
  {
   "cell_type": "code",
   "execution_count": 6,
   "metadata": {},
   "outputs": [
    {
     "name": "stdout",
     "output_type": "stream",
     "text": [
      "c:\\etl_project_cripto\\etl_project_weather\\src\\utils\n"
     ]
    }
   ],
   "source": [
    "import os\n",
    "print(os.getcwd())  # Verifique o diretório atual"
   ]
  }
 ],
 "metadata": {
  "kernelspec": {
   "display_name": "base",
   "language": "python",
   "name": "python3"
  },
  "language_info": {
   "codemirror_mode": {
    "name": "ipython",
    "version": 3
   },
   "file_extension": ".py",
   "mimetype": "text/x-python",
   "name": "python",
   "nbconvert_exporter": "python",
   "pygments_lexer": "ipython3",
   "version": "3.11.7"
  }
 },
 "nbformat": 4,
 "nbformat_minor": 2
}
